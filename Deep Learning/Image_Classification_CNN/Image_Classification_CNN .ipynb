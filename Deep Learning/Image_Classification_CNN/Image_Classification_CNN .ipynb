{
  "cells": [
    {
      "cell_type": "markdown",
      "metadata": {
        "id": "XsrcohGwVhLJ"
      },
      "source": [
        "<h1 style=\"text-align: center\">\n",
        "Deep Learning </br> \n",
        "Image Classification\n",
        "</h1>"
      ]
    },
    {
      "cell_type": "markdown",
      "metadata": {
        "id": "atGYO6DvK5NU",
        "papermill": {
          "duration": 0.022376,
          "end_time": "2020-11-06T00:15:34.434234",
          "exception": false,
          "start_time": "2020-11-06T00:15:34.411858",
          "status": "completed"
        },
        "tags": []
      },
      "source": [
        "## Import needed libraries\n"
      ]
    },
    {
      "cell_type": "code",
      "execution_count": null,
      "metadata": {
        "execution": {
          "iopub.execute_input": "2020-11-06T00:15:34.484628Z",
          "iopub.status.busy": "2020-11-06T00:15:34.483829Z",
          "iopub.status.idle": "2020-11-06T00:15:35.592124Z",
          "shell.execute_reply": "2020-11-06T00:15:35.591266Z"
        },
        "id": "dIjCFmM1K5NX",
        "papermill": {
          "duration": 1.135699,
          "end_time": "2020-11-06T00:15:35.592273",
          "exception": false,
          "start_time": "2020-11-06T00:15:34.456574",
          "status": "completed"
        },
        "tags": []
      },
      "outputs": [],
      "source": [
        "import numpy as np\n",
        "import matplotlib.pyplot as plt\n",
        "import seaborn as sns\n",
        "import torch\n",
        "import torchvision\n",
        "import torchvision.transforms as transforms\n",
        "from torch.utils.data import random_split\n",
        "from torch.utils.data.dataloader import DataLoader\n",
        "from tqdm import tqdm\n",
        "from sklearn.metrics import classification_report"
      ]
    },
    {
      "cell_type": "markdown",
      "metadata": {
        "id": "_ih2AD9ie1MX"
      },
      "source": [
        "## Loading and Pre-Processing data"
      ]
    },
    {
      "cell_type": "code",
      "execution_count": null,
      "metadata": {
        "colab": {
          "base_uri": "https://localhost:8080/"
        },
        "id": "uaZtkgKAe2LN",
        "outputId": "4b4935a4-5c80-41a0-c487-d206814d00c2"
      },
      "outputs": [
        {
          "name": "stdout",
          "output_type": "stream",
          "text": [
            "Downloading http://fashion-mnist.s3-website.eu-central-1.amazonaws.com/train-images-idx3-ubyte.gz\n",
            "Downloading http://fashion-mnist.s3-website.eu-central-1.amazonaws.com/train-images-idx3-ubyte.gz to ./data/FashionMNIST/FashionMNIST/raw/train-images-idx3-ubyte.gz\n"
          ]
        },
        {
          "name": "stderr",
          "output_type": "stream",
          "text": [
            "100%|██████████| 26421880/26421880 [00:00<00:00, 120517250.84it/s]\n"
          ]
        },
        {
          "name": "stdout",
          "output_type": "stream",
          "text": [
            "Extracting ./data/FashionMNIST/FashionMNIST/raw/train-images-idx3-ubyte.gz to ./data/FashionMNIST/FashionMNIST/raw\n",
            "\n",
            "Downloading http://fashion-mnist.s3-website.eu-central-1.amazonaws.com/train-labels-idx1-ubyte.gz\n",
            "Downloading http://fashion-mnist.s3-website.eu-central-1.amazonaws.com/train-labels-idx1-ubyte.gz to ./data/FashionMNIST/FashionMNIST/raw/train-labels-idx1-ubyte.gz\n"
          ]
        },
        {
          "name": "stderr",
          "output_type": "stream",
          "text": [
            "100%|██████████| 29515/29515 [00:00<00:00, 95447095.27it/s]"
          ]
        },
        {
          "name": "stdout",
          "output_type": "stream",
          "text": [
            "Extracting ./data/FashionMNIST/FashionMNIST/raw/train-labels-idx1-ubyte.gz to ./data/FashionMNIST/FashionMNIST/raw\n",
            "\n",
            "Downloading http://fashion-mnist.s3-website.eu-central-1.amazonaws.com/t10k-images-idx3-ubyte.gz\n",
            "Downloading http://fashion-mnist.s3-website.eu-central-1.amazonaws.com/t10k-images-idx3-ubyte.gz to ./data/FashionMNIST/FashionMNIST/raw/t10k-images-idx3-ubyte.gz\n"
          ]
        },
        {
          "name": "stderr",
          "output_type": "stream",
          "text": [
            "\n",
            "100%|██████████| 4422102/4422102 [00:00<00:00, 62994219.78it/s]\n"
          ]
        },
        {
          "name": "stdout",
          "output_type": "stream",
          "text": [
            "Extracting ./data/FashionMNIST/FashionMNIST/raw/t10k-images-idx3-ubyte.gz to ./data/FashionMNIST/FashionMNIST/raw\n",
            "\n",
            "Downloading http://fashion-mnist.s3-website.eu-central-1.amazonaws.com/t10k-labels-idx1-ubyte.gz\n",
            "Downloading http://fashion-mnist.s3-website.eu-central-1.amazonaws.com/t10k-labels-idx1-ubyte.gz to ./data/FashionMNIST/FashionMNIST/raw/t10k-labels-idx1-ubyte.gz\n"
          ]
        },
        {
          "name": "stderr",
          "output_type": "stream",
          "text": [
            "100%|██████████| 5148/5148 [00:00<00:00, 21744488.41it/s]\n"
          ]
        },
        {
          "name": "stdout",
          "output_type": "stream",
          "text": [
            "Extracting ./data/FashionMNIST/FashionMNIST/raw/t10k-labels-idx1-ubyte.gz to ./data/FashionMNIST/FashionMNIST/raw\n",
            "\n"
          ]
        }
      ],
      "source": [
        "## Download FashionMNIST dataset\n",
        "#################################################################################\n",
        "#                          COMPLETE THE FOLLOWING SECTION                       #\n",
        "#################################################################################\n",
        "# use fashion mnist dataset\n",
        "train_set = torchvision.datasets.FashionMNIST(\n",
        "    root = './data/FashionMNIST',\n",
        "    train = True,\n",
        "    download = True,\n",
        "    transform = transforms.Compose([transforms.ToTensor()])\n",
        "    )\n",
        "\n",
        "test_set = torchvision.datasets.FashionMNIST(\n",
        "    root = './data/FashionMNIST',\n",
        "    download=True,\n",
        "    train=False,\n",
        "    transform = transforms.Compose([transforms.ToTensor()])\n",
        "    )\n",
        "#################################################################################\n",
        "#                                   THE END                                     #\n",
        "#################################################################################"
      ]
    },
    {
      "cell_type": "code",
      "execution_count": null,
      "metadata": {
        "id": "CsktV4w-e64U"
      },
      "outputs": [],
      "source": [
        "#################################################################################\n",
        "#                          COMPLETE THE FOLLOWING SECTION                       #\n",
        "#################################################################################\n",
        "# split training set into train and validation data\n",
        "train_size = 48000\n",
        "val_size = 60000 - train_size\n",
        "train_ds,val_ds = random_split(train_set, [train_size, val_size])\n",
        "\n",
        "#################################################################################\n",
        "#                                   THE END                                     #\n",
        "#################################################################################"
      ]
    },
    {
      "cell_type": "code",
      "execution_count": null,
      "metadata": {
        "id": "cRIhgkNPe-rW"
      },
      "outputs": [],
      "source": [
        "#################################################################################\n",
        "#                          COMPLETE THE FOLLOWING SECTION                       #\n",
        "#################################################################################\n",
        "# Loading the dataset into memory using Dataloader\n",
        "# use your desired batch size and shuffle is necessary\n",
        "train_dataloader = DataLoader(train_ds, batch_size=20, shuffle=True)\n",
        "val_dataloader = DataLoader(val_ds, batch_size=20, shuffle=True)\n",
        "test_dataloader = DataLoader(test_set, batch_size=60000, shuffle=True)\n",
        "classes = train_set.classes\n",
        "\n",
        "#################################################################################\n",
        "#                                   THE END                                     #\n",
        "#################################################################################"
      ]
    },
    {
      "cell_type": "markdown",
      "metadata": {
        "id": "MVqdLxDd8O5o"
      },
      "source": [
        "**Display some images from dataset**"
      ]
    },
    {
      "cell_type": "code",
      "execution_count": null,
      "metadata": {
        "colab": {
          "base_uri": "https://localhost:8080/",
          "height": 208
        },
        "id": "LnhmcZP9e62N",
        "outputId": "d9ef3a8c-df5f-4328-8c07-c8e38bfbe172"
      },
      "outputs": [
        {
          "data": {
            "image/png": "[encoded data removed]",
            "text/plain": [
              "<Figure size 1000x800 with 6 Axes>"
            ]
          },
          "metadata": {},
          "output_type": "display_data"
        }
      ],
      "source": [
        "# get some random training images\n",
        "dataiter = iter(train_dataloader)\n",
        "images, labels = next(dataiter)\n",
        "fig, axes = plt.subplots(nrows=1, ncols=6, figsize=(10, 8), subplot_kw={'xticks': [], 'yticks': []})\n",
        "for i,ax in zip(range(0,6),axes.flat):\n",
        "    img,label=images[i],labels[i]\n",
        "    ax.imshow(img.permute(1, 2, 0))\n",
        "    ax.set_title(f\"Label: {classes[label]}\")\n",
        "\n",
        "plt.tight_layout()\n",
        "plt.show()"
      ]
    },
    {
      "cell_type": "markdown",
      "metadata": {
        "id": "T7RMnLBSK5Nc",
        "papermill": {
          "duration": 0.025997,
          "end_time": "2020-11-06T00:15:44.018664",
          "exception": false,
          "start_time": "2020-11-06T00:15:43.992667",
          "status": "completed"
        },
        "tags": []
      },
      "source": [
        "# Defining the Convolutional Neural Network"
      ]
    },
    {
      "cell_type": "markdown",
      "metadata": {
        "id": "If6yxMmoqxDN"
      },
      "source": [
        "<img src='https://drive.google.com/uc?id=1Euy5_bGIiiYECSZUeEofgTImJWgQ0XLf'>"
      ]
    },
    {
      "cell_type": "markdown",
      "metadata": {
        "id": "F_UOoVg8tjwT"
      },
      "source": [
        "**<h2>Implement the model above in pytorch</h2>**"
      ]
    },
    {
      "cell_type": "code",
      "execution_count": null,
      "metadata": {
        "id": "5d4iYGy6cwgZ"
      },
      "outputs": [],
      "source": [
        "import torch.nn as nn\n",
        "import torch.nn.functional as F\n",
        "\n",
        "#define the CNN architecture below\n",
        "class Net(nn.Module):\n",
        "    def __init__(self):\n",
        "        super(Net, self).__init__()\n",
        "#################################################################################\n",
        "#                          COMPLETE THE FOLLOWING SECTION                       #\n",
        "#################################################################################\n",
        "        self.layer1 = nn.Sequential(\n",
        "            nn.Conv2d(1, 16, kernel_size=3, padding='same'))\n",
        "        self.layer2 = nn.Sequential(  \n",
        "            nn.BatchNorm2d(16),\n",
        "            nn.MaxPool2d(kernel_size=2))\n",
        "        self.layer3 = nn.Sequential(  \n",
        "            nn.Conv2d(16, 32, kernel_size=3, padding='valid'))\n",
        "        self.layer4 = nn.Sequential(  \n",
        "            nn.BatchNorm2d(32),\n",
        "            nn.MaxPool2d(kernel_size=2))\n",
        "        self.fc = nn.Linear(6 * 6 * 32, 10)\n",
        "\n",
        "#################################################################################\n",
        "#                                   THE END                                     #\n",
        "#################################################################################\n",
        "        \n",
        "        \n",
        "    def forward(self, x):\n",
        "#################################################################################\n",
        "#                          COMPLETE THE FOLLOWING SECTION                       #\n",
        "#################################################################################\n",
        "        out = self.layer1(x)\n",
        "        out = self.layer2(out)\n",
        "        out = self.layer3(out)\n",
        "        out = self.layer4(out)\n",
        "        out = out.reshape(out.size(0), -1)\n",
        "        out = self.fc(out)\n",
        "#################################################################################\n",
        "#                                   THE END                                     #\n",
        "#################################################################################\n",
        "        \n",
        "        return out"
      ]
    },
    {
      "cell_type": "code",
      "execution_count": null,
      "metadata": {
        "id": "450scXnLLDSl"
      },
      "outputs": [],
      "source": [
        "# Using GPU if it's available\n",
        "device = torch.device('cuda' if torch.cuda.is_available() else 'cpu')"
      ]
    },
    {
      "cell_type": "code",
      "execution_count": null,
      "metadata": {
        "colab": {
          "base_uri": "https://localhost:8080/"
        },
        "id": "mPP8CaHv684n",
        "outputId": "c15ecc5e-077f-49bb-9743-0d13af5eed17"
      },
      "outputs": [
        {
          "data": {
            "text/plain": [
              "Net(\n",
              "  (layer1): Sequential(\n",
              "    (0): Conv2d(1, 16, kernel_size=(3, 3), stride=(1, 1), padding=same)\n",
              "  )\n",
              "  (layer2): Sequential(\n",
              "    (0): BatchNorm2d(16, eps=1e-05, momentum=0.1, affine=True, track_running_stats=True)\n",
              "    (1): MaxPool2d(kernel_size=2, stride=2, padding=0, dilation=1, ceil_mode=False)\n",
              "  )\n",
              "  (layer3): Sequential(\n",
              "    (0): Conv2d(16, 32, kernel_size=(3, 3), stride=(1, 1), padding=valid)\n",
              "  )\n",
              "  (layer4): Sequential(\n",
              "    (0): BatchNorm2d(32, eps=1e-05, momentum=0.1, affine=True, track_running_stats=True)\n",
              "    (1): MaxPool2d(kernel_size=2, stride=2, padding=0, dilation=1, ceil_mode=False)\n",
              "  )\n",
              "  (fc): Linear(in_features=1152, out_features=10, bias=True)\n",
              ")"
            ]
          },
          "execution_count": 11,
          "metadata": {},
          "output_type": "execute_result"
        }
      ],
      "source": [
        "cnn_model = Net()\n",
        "cnn_model.to(device)"
      ]
    },
    {
      "cell_type": "markdown",
      "metadata": {
        "id": "NJ0Xr7KfK5Ne",
        "papermill": {
          "duration": 0.026597,
          "end_time": "2020-11-06T00:15:44.148554",
          "exception": false,
          "start_time": "2020-11-06T00:15:44.121957",
          "status": "completed"
        },
        "tags": []
      },
      "source": [
        "# Defining Loss Function and optimizer\n",
        "**Define appropriate Loss Function, Optimizer and Learning Rate**"
      ]
    },
    {
      "cell_type": "code",
      "execution_count": null,
      "metadata": {
        "execution": {
          "iopub.execute_input": "2020-11-06T00:15:44.209323Z",
          "iopub.status.busy": "2020-11-06T00:15:44.208462Z",
          "iopub.status.idle": "2020-11-06T00:15:44.211159Z",
          "shell.execute_reply": "2020-11-06T00:15:44.211695Z"
        },
        "id": "aAhczTtRK5Nf",
        "papermill": {
          "duration": 0.036545,
          "end_time": "2020-11-06T00:15:44.211856",
          "exception": false,
          "start_time": "2020-11-06T00:15:44.175311",
          "status": "completed"
        },
        "tags": []
      },
      "outputs": [],
      "source": [
        "import torch.optim as optim\n",
        "\n",
        "Learning_rate = 0.001\n",
        "criterion = nn.CrossEntropyLoss()\n",
        "optimizer = torch.optim.SGD(cnn_model.parameters(),lr=Learning_rate)"
      ]
    },
    {
      "cell_type": "markdown",
      "metadata": {
        "id": "MTs7zqIuT6bI"
      },
      "source": [
        "**Define number of epochs and path to save the best model**"
      ]
    },
    {
      "cell_type": "code",
      "execution_count": null,
      "metadata": {
        "id": "TIl4qh6gT68p"
      },
      "outputs": [],
      "source": [
        "epochs = 15\n",
        "save_path=\"/content/cnn_model\""
      ]
    },
    {
      "cell_type": "markdown",
      "metadata": {
        "id": "oE5cyPw3K5Ng",
        "papermill": {
          "duration": 0.026206,
          "end_time": "2020-11-06T00:15:44.264708",
          "exception": false,
          "start_time": "2020-11-06T00:15:44.238502",
          "status": "completed"
        },
        "tags": []
      },
      "source": [
        "# Finally we will train our neural network"
      ]
    },
    {
      "cell_type": "code",
      "execution_count": null,
      "metadata": {
        "id": "2czjHpINLO7A"
      },
      "outputs": [],
      "source": [
        "# multiclass accuracy\n",
        "def multi_acc(y_pred, y_test):\n",
        "    _, y_pred_tags = torch.max(y_pred, dim = 1)    \n",
        "    correct_pred = (y_pred_tags == y_test).float()\n",
        "    acc = correct_pred.sum() / len(correct_pred)\n",
        "    acc = torch.round(acc * 100)\n",
        "    return acc"
      ]
    },
    {
      "cell_type": "markdown",
      "metadata": {
        "id": "-0JhvfcNYGwI"
      },
      "source": [
        "**Implementing the training algorithm**"
      ]
    },
    {
      "cell_type": "code",
      "execution_count": null,
      "metadata": {
        "colab": {
          "base_uri": "https://localhost:8080/"
        },
        "id": "JXd2kTmtnv8r",
        "outputId": "be680dea-ed9a-4cc8-f717-992823f8404e"
      },
      "outputs": [
        {
          "name": "stdout",
          "output_type": "stream",
          "text": [
            "Epoch [1/15], Step [100/2400], Loss: 1.0234\n",
            "Epoch [1/15], Step [200/2400], Loss: 0.9047\n",
            "Epoch [1/15], Step [300/2400], Loss: 1.1038\n",
            "Epoch [1/15], Step [400/2400], Loss: 0.9138\n",
            "Epoch [1/15], Step [500/2400], Loss: 0.9613\n",
            "Epoch [1/15], Step [600/2400], Loss: 0.5839\n",
            "Epoch [1/15], Step [700/2400], Loss: 0.5147\n",
            "Epoch [1/15], Step [800/2400], Loss: 0.6262\n",
            "Epoch [1/15], Step [900/2400], Loss: 0.8419\n",
            "Epoch [1/15], Step [1000/2400], Loss: 0.5864\n",
            "Epoch [1/15], Step [1100/2400], Loss: 0.6421\n",
            "Epoch [1/15], Step [1200/2400], Loss: 0.5799\n",
            "Epoch [1/15], Step [1300/2400], Loss: 0.5402\n",
            "Epoch [1/15], Step [1400/2400], Loss: 0.4049\n",
            "Epoch [1/15], Step [1500/2400], Loss: 0.6883\n",
            "Epoch [1/15], Step [1600/2400], Loss: 0.3321\n",
            "Epoch [1/15], Step [1700/2400], Loss: 0.5752\n",
            "Epoch [1/15], Step [1800/2400], Loss: 0.6232\n",
            "Epoch [1/15], Step [1900/2400], Loss: 0.4263\n",
            "Epoch [1/15], Step [2000/2400], Loss: 0.4333\n",
            "Epoch [1/15], Step [2100/2400], Loss: 0.5083\n",
            "Epoch [1/15], Step [2200/2400], Loss: 0.3322\n",
            "Epoch [1/15], Step [2300/2400], Loss: 0.3841\n",
            "Epoch [1/15], Step [2400/2400], Loss: 0.3278\n",
            "Epoch [2/15], Step [100/2400], Loss: 0.7119\n",
            "Epoch [2/15], Step [200/2400], Loss: 0.4502\n",
            "Epoch [2/15], Step [300/2400], Loss: 0.3050\n",
            "Epoch [2/15], Step [400/2400], Loss: 0.3154\n",
            "Epoch [2/15], Step [500/2400], Loss: 0.2874\n",
            "Epoch [2/15], Step [600/2400], Loss: 0.5644\n",
            "Epoch [2/15], Step [700/2400], Loss: 0.3735\n",
            "Epoch [2/15], Step [800/2400], Loss: 0.2522\n",
            "Epoch [2/15], Step [900/2400], Loss: 0.4658\n",
            "Epoch [2/15], Step [1000/2400], Loss: 0.4901\n",
            "Epoch [2/15], Step [1100/2400], Loss: 0.3481\n",
            "Epoch [2/15], Step [1200/2400], Loss: 0.3494\n",
            "Epoch [2/15], Step [1300/2400], Loss: 0.2455\n",
            "Epoch [2/15], Step [1400/2400], Loss: 0.2968\n",
            "Epoch [2/15], Step [1500/2400], Loss: 0.5034\n",
            "Epoch [2/15], Step [1600/2400], Loss: 0.3627\n",
            "Epoch [2/15], Step [1700/2400], Loss: 0.3719\n",
            "Epoch [2/15], Step [1800/2400], Loss: 0.4198\n",
            "Epoch [2/15], Step [1900/2400], Loss: 0.4870\n",
            "Epoch [2/15], Step [2000/2400], Loss: 0.9162\n",
            "Epoch [2/15], Step [2100/2400], Loss: 0.3388\n",
            "Epoch [2/15], Step [2200/2400], Loss: 0.3714\n",
            "Epoch [2/15], Step [2300/2400], Loss: 0.2451\n",
            "Epoch [2/15], Step [2400/2400], Loss: 0.1990\n",
            "Epoch [3/15], Step [100/2400], Loss: 0.2743\n",
            "Epoch [3/15], Step [200/2400], Loss: 0.5864\n",
            "Epoch [3/15], Step [300/2400], Loss: 0.2933\n",
            "Epoch [3/15], Step [400/2400], Loss: 0.2582\n",
            "Epoch [3/15], Step [500/2400], Loss: 0.3042\n",
            "Epoch [3/15], Step [600/2400], Loss: 0.4800\n",
            "Epoch [3/15], Step [700/2400], Loss: 0.3667\n",
            "Epoch [3/15], Step [800/2400], Loss: 0.1691\n",
            "Epoch [3/15], Step [900/2400], Loss: 0.2120\n",
            "Epoch [3/15], Step [1000/2400], Loss: 0.2622\n",
            "Epoch [3/15], Step [1100/2400], Loss: 0.1991\n",
            "Epoch [3/15], Step [1200/2400], Loss: 0.1767\n",
            "Epoch [3/15], Step [1300/2400], Loss: 0.2969\n",
            "Epoch [3/15], Step [1400/2400], Loss: 0.4347\n",
            "Epoch [3/15], Step [1500/2400], Loss: 0.3944\n",
            "Epoch [3/15], Step [1600/2400], Loss: 0.3592\n",
            "Epoch [3/15], Step [1700/2400], Loss: 0.3289\n",
            "Epoch [3/15], Step [1800/2400], Loss: 0.5828\n",
            "Epoch [3/15], Step [1900/2400], Loss: 0.2726\n",
            "Epoch [3/15], Step [2000/2400], Loss: 0.4921\n",
            "Epoch [3/15], Step [2100/2400], Loss: 0.4424\n",
            "Epoch [3/15], Step [2200/2400], Loss: 0.3275\n",
            "Epoch [3/15], Step [2300/2400], Loss: 0.2937\n",
            "Epoch [3/15], Step [2400/2400], Loss: 0.8260\n",
            "Epoch [4/15], Step [100/2400], Loss: 0.3541\n",
            "Epoch [4/15], Step [200/2400], Loss: 0.2645\n",
            "Epoch [4/15], Step [300/2400], Loss: 0.5230\n",
            "Epoch [4/15], Step [400/2400], Loss: 0.3169\n",
            "Epoch [4/15], Step [500/2400], Loss: 0.2492\n",
            "Epoch [4/15], Step [600/2400], Loss: 0.3401\n",
            "Epoch [4/15], Step [700/2400], Loss: 0.6506\n",
            "Epoch [4/15], Step [800/2400], Loss: 0.4633\n",
            "Epoch [4/15], Step [900/2400], Loss: 0.3334\n",
            "Epoch [4/15], Step [1000/2400], Loss: 0.8107\n",
            "Epoch [4/15], Step [1100/2400], Loss: 0.5103\n",
            "Epoch [4/15], Step [1200/2400], Loss: 0.2559\n",
            "Epoch [4/15], Step [1300/2400], Loss: 0.4457\n",
            "Epoch [4/15], Step [1400/2400], Loss: 0.4592\n",
            "Epoch [4/15], Step [1500/2400], Loss: 0.4077\n",
            "Epoch [4/15], Step [1600/2400], Loss: 0.2616\n",
            "Epoch [4/15], Step [1700/2400], Loss: 0.4746\n",
            "Epoch [4/15], Step [1800/2400], Loss: 0.2607\n",
            "Epoch [4/15], Step [1900/2400], Loss: 0.2762\n",
            "Epoch [4/15], Step [2000/2400], Loss: 0.5217\n",
            "Epoch [4/15], Step [2100/2400], Loss: 0.4754\n",
            "Epoch [4/15], Step [2200/2400], Loss: 0.3936\n",
            "Epoch [4/15], Step [2300/2400], Loss: 0.4651\n",
            "Epoch [4/15], Step [2400/2400], Loss: 0.1255\n",
            "Epoch [5/15], Step [100/2400], Loss: 0.2664\n",
            "Epoch [5/15], Step [200/2400], Loss: 0.4061\n",
            "Epoch [5/15], Step [300/2400], Loss: 0.5273\n",
            "Epoch [5/15], Step [400/2400], Loss: 0.2151\n",
            "Epoch [5/15], Step [500/2400], Loss: 0.3922\n",
            "Epoch [5/15], Step [600/2400], Loss: 0.4483\n",
            "Epoch [5/15], Step [700/2400], Loss: 0.4927\n",
            "Epoch [5/15], Step [800/2400], Loss: 0.4575\n",
            "Epoch [5/15], Step [900/2400], Loss: 0.2315\n",
            "Epoch [5/15], Step [1000/2400], Loss: 0.6232\n",
            "Epoch [5/15], Step [1100/2400], Loss: 0.1238\n",
            "Epoch [5/15], Step [1200/2400], Loss: 0.3576\n",
            "Epoch [5/15], Step [1300/2400], Loss: 0.4412\n",
            "Epoch [5/15], Step [1400/2400], Loss: 0.3594\n",
            "Epoch [5/15], Step [1500/2400], Loss: 0.2608\n",
            "Epoch [5/15], Step [1600/2400], Loss: 0.1877\n",
            "Epoch [5/15], Step [1700/2400], Loss: 0.5456\n",
            "Epoch [5/15], Step [1800/2400], Loss: 0.1722\n",
            "Epoch [5/15], Step [1900/2400], Loss: 0.3447\n",
            "Epoch [5/15], Step [2000/2400], Loss: 0.1535\n",
            "Epoch [5/15], Step [2100/2400], Loss: 0.5291\n",
            "Epoch [5/15], Step [2200/2400], Loss: 0.3998\n",
            "Epoch [5/15], Step [2300/2400], Loss: 0.4106\n",
            "Epoch [5/15], Step [2400/2400], Loss: 0.3378\n",
            "Epoch [6/15], Step [100/2400], Loss: 0.1922\n",
            "Epoch [6/15], Step [200/2400], Loss: 0.3868\n",
            "Epoch [6/15], Step [300/2400], Loss: 0.5684\n",
            "Epoch [6/15], Step [400/2400], Loss: 0.4120\n",
            "Epoch [6/15], Step [500/2400], Loss: 0.3940\n",
            "Epoch [6/15], Step [600/2400], Loss: 0.4946\n",
            "Epoch [6/15], Step [700/2400], Loss: 0.4175\n",
            "Epoch [6/15], Step [800/2400], Loss: 0.2935\n",
            "Epoch [6/15], Step [900/2400], Loss: 0.3761\n",
            "Epoch [6/15], Step [1000/2400], Loss: 0.1723\n",
            "Epoch [6/15], Step [1100/2400], Loss: 0.1821\n",
            "Epoch [6/15], Step [1200/2400], Loss: 0.4529\n",
            "Epoch [6/15], Step [1300/2400], Loss: 0.2054\n",
            "Epoch [6/15], Step [1400/2400], Loss: 0.2722\n",
            "Epoch [6/15], Step [1500/2400], Loss: 0.4145\n",
            "Epoch [6/15], Step [1600/2400], Loss: 0.4014\n",
            "Epoch [6/15], Step [1700/2400], Loss: 0.2031\n",
            "Epoch [6/15], Step [1800/2400], Loss: 0.3877\n",
            "Epoch [6/15], Step [1900/2400], Loss: 0.3200\n",
            "Epoch [6/15], Step [2000/2400], Loss: 0.3045\n",
            "Epoch [6/15], Step [2100/2400], Loss: 0.4385\n",
            "Epoch [6/15], Step [2200/2400], Loss: 0.2151\n",
            "Epoch [6/15], Step [2300/2400], Loss: 0.1516\n",
            "Epoch [6/15], Step [2400/2400], Loss: 0.2929\n",
            "Epoch [7/15], Step [100/2400], Loss: 0.2796\n",
            "Epoch [7/15], Step [200/2400], Loss: 0.4303\n",
            "Epoch [7/15], Step [300/2400], Loss: 0.3654\n",
            "Epoch [7/15], Step [400/2400], Loss: 0.1795\n",
            "Epoch [7/15], Step [500/2400], Loss: 0.3983\n",
            "Epoch [7/15], Step [600/2400], Loss: 0.4533\n",
            "Epoch [7/15], Step [700/2400], Loss: 0.1345\n",
            "Epoch [7/15], Step [800/2400], Loss: 0.2607\n",
            "Epoch [7/15], Step [900/2400], Loss: 0.4963\n",
            "Epoch [7/15], Step [1000/2400], Loss: 0.2649\n",
            "Epoch [7/15], Step [1100/2400], Loss: 0.5956\n",
            "Epoch [7/15], Step [1200/2400], Loss: 0.3043\n",
            "Epoch [7/15], Step [1300/2400], Loss: 0.4124\n",
            "Epoch [7/15], Step [1400/2400], Loss: 0.2559\n",
            "Epoch [7/15], Step [1500/2400], Loss: 0.3441\n",
            "Epoch [7/15], Step [1600/2400], Loss: 0.2666\n",
            "Epoch [7/15], Step [1700/2400], Loss: 0.3209\n",
            "Epoch [7/15], Step [1800/2400], Loss: 0.3834\n",
            "Epoch [7/15], Step [1900/2400], Loss: 0.2471\n",
            "Epoch [7/15], Step [2000/2400], Loss: 0.3029\n",
            "Epoch [7/15], Step [2100/2400], Loss: 0.0944\n",
            "Epoch [7/15], Step [2200/2400], Loss: 0.2166\n",
            "Epoch [7/15], Step [2300/2400], Loss: 0.1975\n",
            "Epoch [7/15], Step [2400/2400], Loss: 0.1619\n",
            "Epoch [8/15], Step [100/2400], Loss: 0.1475\n",
            "Epoch [8/15], Step [200/2400], Loss: 0.1596\n",
            "Epoch [8/15], Step [300/2400], Loss: 0.3009\n",
            "Epoch [8/15], Step [400/2400], Loss: 0.0982\n",
            "Epoch [8/15], Step [500/2400], Loss: 0.1292\n",
            "Epoch [8/15], Step [600/2400], Loss: 0.5516\n",
            "Epoch [8/15], Step [700/2400], Loss: 0.3020\n",
            "Epoch [8/15], Step [800/2400], Loss: 0.2972\n",
            "Epoch [8/15], Step [900/2400], Loss: 0.4513\n",
            "Epoch [8/15], Step [1000/2400], Loss: 0.5014\n",
            "Epoch [8/15], Step [1100/2400], Loss: 0.2536\n",
            "Epoch [8/15], Step [1200/2400], Loss: 0.1031\n",
            "Epoch [8/15], Step [1300/2400], Loss: 0.0852\n",
            "Epoch [8/15], Step [1400/2400], Loss: 0.2275\n",
            "Epoch [8/15], Step [1500/2400], Loss: 0.2420\n",
            "Epoch [8/15], Step [1600/2400], Loss: 0.4145\n",
            "Epoch [8/15], Step [1700/2400], Loss: 0.4301\n",
            "Epoch [8/15], Step [1800/2400], Loss: 0.8076\n",
            "Epoch [8/15], Step [1900/2400], Loss: 0.1119\n",
            "Epoch [8/15], Step [2000/2400], Loss: 0.0754\n",
            "Epoch [8/15], Step [2100/2400], Loss: 0.2946\n",
            "Epoch [8/15], Step [2200/2400], Loss: 0.5605\n",
            "Epoch [8/15], Step [2300/2400], Loss: 0.4504\n",
            "Epoch [8/15], Step [2400/2400], Loss: 0.2846\n",
            "Epoch [9/15], Step [100/2400], Loss: 0.1154\n",
            "Epoch [9/15], Step [200/2400], Loss: 0.1202\n",
            "Epoch [9/15], Step [300/2400], Loss: 0.5575\n",
            "Epoch [9/15], Step [400/2400], Loss: 0.4449\n",
            "Epoch [9/15], Step [500/2400], Loss: 0.5171\n",
            "Epoch [9/15], Step [600/2400], Loss: 0.2598\n",
            "Epoch [9/15], Step [700/2400], Loss: 0.4193\n",
            "Epoch [9/15], Step [800/2400], Loss: 0.4366\n",
            "Epoch [9/15], Step [900/2400], Loss: 0.6725\n",
            "Epoch [9/15], Step [1000/2400], Loss: 0.3705\n",
            "Epoch [9/15], Step [1100/2400], Loss: 0.1210\n",
            "Epoch [9/15], Step [1200/2400], Loss: 0.3149\n",
            "Epoch [9/15], Step [1300/2400], Loss: 0.1650\n",
            "Epoch [9/15], Step [1400/2400], Loss: 0.4784\n",
            "Epoch [9/15], Step [1500/2400], Loss: 0.1830\n",
            "Epoch [9/15], Step [1600/2400], Loss: 0.1482\n",
            "Epoch [9/15], Step [1700/2400], Loss: 0.8781\n",
            "Epoch [9/15], Step [1800/2400], Loss: 0.5733\n",
            "Epoch [9/15], Step [1900/2400], Loss: 0.2073\n",
            "Epoch [9/15], Step [2000/2400], Loss: 0.2110\n",
            "Epoch [9/15], Step [2100/2400], Loss: 0.1790\n",
            "Epoch [9/15], Step [2200/2400], Loss: 0.2945\n",
            "Epoch [9/15], Step [2300/2400], Loss: 0.3257\n",
            "Epoch [9/15], Step [2400/2400], Loss: 0.2433\n",
            "Epoch [10/15], Step [100/2400], Loss: 0.1848\n",
            "Epoch [10/15], Step [200/2400], Loss: 0.1485\n",
            "Epoch [10/15], Step [300/2400], Loss: 0.0705\n",
            "Epoch [10/15], Step [400/2400], Loss: 0.3148\n",
            "Epoch [10/15], Step [500/2400], Loss: 0.3734\n",
            "Epoch [10/15], Step [600/2400], Loss: 0.1265\n",
            "Epoch [10/15], Step [700/2400], Loss: 0.1145\n",
            "Epoch [10/15], Step [800/2400], Loss: 0.2094\n",
            "Epoch [10/15], Step [900/2400], Loss: 0.5580\n",
            "Epoch [10/15], Step [1000/2400], Loss: 0.3002\n",
            "Epoch [10/15], Step [1100/2400], Loss: 0.1385\n",
            "Epoch [10/15], Step [1200/2400], Loss: 0.2916\n",
            "Epoch [10/15], Step [1300/2400], Loss: 0.7035\n",
            "Epoch [10/15], Step [1400/2400], Loss: 0.2215\n",
            "Epoch [10/15], Step [1500/2400], Loss: 0.1851\n",
            "Epoch [10/15], Step [1600/2400], Loss: 0.1409\n",
            "Epoch [10/15], Step [1700/2400], Loss: 0.3261\n",
            "Epoch [10/15], Step [1800/2400], Loss: 0.0596\n",
            "Epoch [10/15], Step [1900/2400], Loss: 0.4085\n",
            "Epoch [10/15], Step [2000/2400], Loss: 0.1354\n",
            "Epoch [10/15], Step [2100/2400], Loss: 0.6325\n",
            "Epoch [10/15], Step [2200/2400], Loss: 0.1744\n",
            "Epoch [10/15], Step [2300/2400], Loss: 0.3336\n",
            "Epoch [10/15], Step [2400/2400], Loss: 0.5600\n",
            "Epoch [11/15], Step [100/2400], Loss: 0.3781\n",
            "Epoch [11/15], Step [200/2400], Loss: 0.2177\n",
            "Epoch [11/15], Step [300/2400], Loss: 0.2725\n",
            "Epoch [11/15], Step [400/2400], Loss: 0.1106\n",
            "Epoch [11/15], Step [500/2400], Loss: 0.2971\n",
            "Epoch [11/15], Step [600/2400], Loss: 0.3911\n",
            "Epoch [11/15], Step [700/2400], Loss: 0.2685\n",
            "Epoch [11/15], Step [800/2400], Loss: 0.1671\n",
            "Epoch [11/15], Step [900/2400], Loss: 0.1413\n",
            "Epoch [11/15], Step [1000/2400], Loss: 0.4280\n",
            "Epoch [11/15], Step [1100/2400], Loss: 0.2238\n",
            "Epoch [11/15], Step [1200/2400], Loss: 0.1831\n",
            "Epoch [11/15], Step [1300/2400], Loss: 0.1204\n",
            "Epoch [11/15], Step [1400/2400], Loss: 0.3887\n",
            "Epoch [11/15], Step [1500/2400], Loss: 0.2411\n",
            "Epoch [11/15], Step [1600/2400], Loss: 0.2043\n",
            "Epoch [11/15], Step [1700/2400], Loss: 0.3633\n",
            "Epoch [11/15], Step [1800/2400], Loss: 0.3629\n",
            "Epoch [11/15], Step [1900/2400], Loss: 0.1352\n",
            "Epoch [11/15], Step [2000/2400], Loss: 0.3725\n",
            "Epoch [11/15], Step [2100/2400], Loss: 0.3323\n",
            "Epoch [11/15], Step [2200/2400], Loss: 0.2297\n",
            "Epoch [11/15], Step [2300/2400], Loss: 0.1893\n",
            "Epoch [11/15], Step [2400/2400], Loss: 0.6141\n",
            "Epoch [12/15], Step [100/2400], Loss: 0.2031\n",
            "Epoch [12/15], Step [200/2400], Loss: 0.2760\n",
            "Epoch [12/15], Step [300/2400], Loss: 0.3545\n",
            "Epoch [12/15], Step [400/2400], Loss: 0.2816\n",
            "Epoch [12/15], Step [500/2400], Loss: 0.2507\n",
            "Epoch [12/15], Step [600/2400], Loss: 0.3063\n",
            "Epoch [12/15], Step [700/2400], Loss: 0.2242\n",
            "Epoch [12/15], Step [800/2400], Loss: 0.1007\n",
            "Epoch [12/15], Step [900/2400], Loss: 0.2711\n",
            "Epoch [12/15], Step [1000/2400], Loss: 0.1862\n",
            "Epoch [12/15], Step [1100/2400], Loss: 0.1753\n",
            "Epoch [12/15], Step [1200/2400], Loss: 0.0795\n",
            "Epoch [12/15], Step [1300/2400], Loss: 0.1369\n",
            "Epoch [12/15], Step [1400/2400], Loss: 0.4532\n",
            "Epoch [12/15], Step [1500/2400], Loss: 0.6515\n",
            "Epoch [12/15], Step [1600/2400], Loss: 0.4000\n",
            "Epoch [12/15], Step [1700/2400], Loss: 0.2479\n",
            "Epoch [12/15], Step [1800/2400], Loss: 0.4659\n",
            "Epoch [12/15], Step [1900/2400], Loss: 0.4382\n",
            "Epoch [12/15], Step [2000/2400], Loss: 0.2462\n",
            "Epoch [12/15], Step [2100/2400], Loss: 0.1488\n",
            "Epoch [12/15], Step [2200/2400], Loss: 0.2559\n",
            "Epoch [12/15], Step [2300/2400], Loss: 0.1618\n",
            "Epoch [12/15], Step [2400/2400], Loss: 0.2565\n",
            "Epoch [13/15], Step [100/2400], Loss: 0.2917\n",
            "Epoch [13/15], Step [200/2400], Loss: 0.3145\n",
            "Epoch [13/15], Step [300/2400], Loss: 0.4120\n",
            "Epoch [13/15], Step [400/2400], Loss: 0.3628\n",
            "Epoch [13/15], Step [500/2400], Loss: 0.1606\n",
            "Epoch [13/15], Step [600/2400], Loss: 0.4891\n",
            "Epoch [13/15], Step [700/2400], Loss: 0.7509\n",
            "Epoch [13/15], Step [800/2400], Loss: 0.0721\n",
            "Epoch [13/15], Step [900/2400], Loss: 0.3341\n",
            "Epoch [13/15], Step [1000/2400], Loss: 0.1533\n",
            "Epoch [13/15], Step [1100/2400], Loss: 0.3234\n",
            "Epoch [13/15], Step [1200/2400], Loss: 0.1580\n",
            "Epoch [13/15], Step [1300/2400], Loss: 0.1527\n",
            "Epoch [13/15], Step [1400/2400], Loss: 0.1270\n",
            "Epoch [13/15], Step [1500/2400], Loss: 0.1612\n",
            "Epoch [13/15], Step [1600/2400], Loss: 0.1956\n",
            "Epoch [13/15], Step [1700/2400], Loss: 0.1191\n",
            "Epoch [13/15], Step [1800/2400], Loss: 0.1595\n",
            "Epoch [13/15], Step [1900/2400], Loss: 0.5200\n",
            "Epoch [13/15], Step [2000/2400], Loss: 0.2665\n",
            "Epoch [13/15], Step [2100/2400], Loss: 0.4003\n",
            "Epoch [13/15], Step [2200/2400], Loss: 0.7576\n",
            "Epoch [13/15], Step [2300/2400], Loss: 0.3080\n",
            "Epoch [13/15], Step [2400/2400], Loss: 0.4874\n",
            "Epoch [14/15], Step [100/2400], Loss: 0.3401\n",
            "Epoch [14/15], Step [200/2400], Loss: 0.3264\n",
            "Epoch [14/15], Step [300/2400], Loss: 0.1412\n",
            "Epoch [14/15], Step [400/2400], Loss: 0.2438\n",
            "Epoch [14/15], Step [500/2400], Loss: 0.2784\n",
            "Epoch [14/15], Step [600/2400], Loss: 0.3100\n",
            "Epoch [14/15], Step [700/2400], Loss: 0.1061\n",
            "Epoch [14/15], Step [800/2400], Loss: 0.3650\n",
            "Epoch [14/15], Step [900/2400], Loss: 0.1789\n",
            "Epoch [14/15], Step [1000/2400], Loss: 0.1691\n",
            "Epoch [14/15], Step [1100/2400], Loss: 0.4982\n",
            "Epoch [14/15], Step [1200/2400], Loss: 0.4493\n",
            "Epoch [14/15], Step [1300/2400], Loss: 0.1366\n",
            "Epoch [14/15], Step [1400/2400], Loss: 0.3986\n",
            "Epoch [14/15], Step [1500/2400], Loss: 0.2363\n",
            "Epoch [14/15], Step [1600/2400], Loss: 0.3652\n",
            "Epoch [14/15], Step [1700/2400], Loss: 0.2921\n",
            "Epoch [14/15], Step [1800/2400], Loss: 0.2512\n",
            "Epoch [14/15], Step [1900/2400], Loss: 0.1499\n",
            "Epoch [14/15], Step [2000/2400], Loss: 0.1099\n",
            "Epoch [14/15], Step [2100/2400], Loss: 0.3143\n",
            "Epoch [14/15], Step [2200/2400], Loss: 0.2004\n",
            "Epoch [14/15], Step [2300/2400], Loss: 0.5566\n",
            "Epoch [14/15], Step [2400/2400], Loss: 0.2108\n",
            "Epoch [15/15], Step [100/2400], Loss: 0.3420\n",
            "Epoch [15/15], Step [200/2400], Loss: 0.3133\n",
            "Epoch [15/15], Step [300/2400], Loss: 0.2819\n",
            "Epoch [15/15], Step [400/2400], Loss: 0.1393\n",
            "Epoch [15/15], Step [500/2400], Loss: 0.4452\n",
            "Epoch [15/15], Step [600/2400], Loss: 0.3368\n",
            "Epoch [15/15], Step [700/2400], Loss: 0.0525\n",
            "Epoch [15/15], Step [800/2400], Loss: 0.3419\n",
            "Epoch [15/15], Step [900/2400], Loss: 0.3239\n",
            "Epoch [15/15], Step [1000/2400], Loss: 0.1012\n",
            "Epoch [15/15], Step [1100/2400], Loss: 0.3712\n",
            "Epoch [15/15], Step [1200/2400], Loss: 0.1673\n",
            "Epoch [15/15], Step [1300/2400], Loss: 0.0747\n",
            "Epoch [15/15], Step [1400/2400], Loss: 0.2118\n",
            "Epoch [15/15], Step [1500/2400], Loss: 0.2459\n",
            "Epoch [15/15], Step [1600/2400], Loss: 0.3582\n",
            "Epoch [15/15], Step [1700/2400], Loss: 0.4032\n",
            "Epoch [15/15], Step [1800/2400], Loss: 0.1645\n",
            "Epoch [15/15], Step [1900/2400], Loss: 0.5128\n",
            "Epoch [15/15], Step [2000/2400], Loss: 0.4957\n",
            "Epoch [15/15], Step [2100/2400], Loss: 0.1052\n",
            "Epoch [15/15], Step [2200/2400], Loss: 0.0988\n",
            "Epoch [15/15], Step [2300/2400], Loss: 0.1514\n",
            "Epoch [15/15], Step [2400/2400], Loss: 0.0669\n"
          ]
        }
      ],
      "source": [
        "total_step = len(train_dataloader)\n",
        "for epoch in range(epochs):\n",
        "    for i, (images, labels) in enumerate(train_dataloader):\n",
        "        images = images.to(device)\n",
        "        labels = labels.to(device)\n",
        "\n",
        "        # Forward pass\n",
        "        outputs = cnn_model(images)\n",
        "        loss = criterion(outputs, labels)\n",
        "\n",
        "        # Backward and optimize\n",
        "        optimizer.zero_grad()\n",
        "        loss.backward()\n",
        "        optimizer.step()\n",
        "\n",
        "        if (i+1) % 100 == 0:\n",
        "            print(f'Epoch [{epoch+1}/{epochs}], Step [{i+1}/{total_step}], Loss: {loss.item():.4f}')\n"
      ]
    },
    {
      "cell_type": "markdown",
      "metadata": {
        "id": "-4B6q4vC39ry"
      },
      "source": [
        "**Accuracy Result on Test Data**"
      ]
    },
    {
      "cell_type": "code",
      "execution_count": null,
      "metadata": {
        "colab": {
          "base_uri": "https://localhost:8080/"
        },
        "id": "_AaDdINCotbM",
        "outputId": "a8a252ec-412b-407d-8f2c-030635bb6878"
      },
      "outputs": [
        {
          "name": "stdout",
          "output_type": "stream",
          "text": [
            "Accuracy of the model on the 10000 test images: 89.04%\n"
          ]
        }
      ],
      "source": [
        "# Testing the model\n",
        "cnn_model.eval()  # eval mode (batchnorm uses moving mean/variance instead of mini-batch mean/variance)\n",
        "with torch.no_grad():\n",
        "    correct = 0\n",
        "    total = 0\n",
        "    for images, labels in test_dataloader:\n",
        "        images = images.to(device)\n",
        "        labels = labels.to(device)\n",
        "        outputs = cnn_model(images)\n",
        "        _, predicted = torch.max(outputs.data, 1)\n",
        "        total += labels.size(0)\n",
        "        correct += (predicted == labels).sum().item()\n",
        "\n",
        "    print(f'Accuracy of the model on the {len(test_set)} test images: {100 * correct / total}%')"
      ]
    }
  ],
  "metadata": {
    "accelerator": "GPU",
    "colab": {
      "provenance": []
    },
    "gpuClass": "standard",
    "kernelspec": {
      "display_name": "Python 3",
      "language": "python",
      "name": "python3"
    },
    "language_info": {
      "codemirror_mode": {
        "name": "ipython",
        "version": 3
      },
      "file_extension": ".py",
      "mimetype": "text/x-python",
      "name": "python",
      "nbconvert_exporter": "python",
      "pygments_lexer": "ipython3",
      "version": "3.7.6"
    },
    "papermill": {
      "duration": 247.72117,
      "end_time": "2020-11-06T00:19:37.463107",
      "environment_variables": {},
      "exception": null,
      "input_path": "__notebook__.ipynb",
      "output_path": "__notebook__.ipynb",
      "parameters": {},
      "start_time": "2020-11-06T00:15:29.741937",
      "version": "2.1.0"
    }
  },
  "nbformat": 4,
  "nbformat_minor": 0
}
